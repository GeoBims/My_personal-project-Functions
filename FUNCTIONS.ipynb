{
 "cells": [
  {
   "cell_type": "markdown",
   "id": "967c4bfe",
   "metadata": {},
   "source": [
    "### Define a funtion and create a program that can be used for interview results based on the candidates' information"
   ]
  },
  {
   "cell_type": "code",
   "execution_count": 1,
   "id": "44e36134",
   "metadata": {},
   "outputs": [],
   "source": [
    "minimum_age = 20\n",
    "def interview_result(Candidate, Age, License, Fitness, Does_the_candidate_have_a_License):\n",
    "    \n",
    "    '''\n",
    "    Info: This function prints the results for each candidate's interview session\n",
    "    \n",
    "    '''\n",
    "    if int (Age) >= minimum_age:\n",
    "        print (f\"{Candidate} is {Age} years old.\")\n",
    "        if License == \"Yes\":  \n",
    "            print (f\"{Candidate} has a Driver\\'s license.\")\n",
    "            if Fitness == \"Yes\":\n",
    "                print (f\"{Candidate} is fit enough.\")\n",
    "                print (f\"{Candidate} meets all the requirements.\")\n",
    "            print (f\"\\n{Candidate} is qualified\")\n",
    "        elif Does_the_candidate_have_a_License == \"No\":\n",
    "            print (f\"{Candidate} does not have a license, but can be put on the waiting list even if he is not fit.\")\n",
    "    \n",
    "    else:\n",
    "        print (f\"{Candidate} is *{Age}* years old.\")\n",
    "        print (f\"\\n{Candidate} is not qualified.\")\n",
    "    \n",
    "    print (\"\\n\\nCandidate Assessed\")"
   ]
  },
  {
   "cell_type": "code",
   "execution_count": 2,
   "id": "faa5d27b",
   "metadata": {},
   "outputs": [
    {
     "name": "stdout",
     "output_type": "stream",
     "text": [
      "John is 30 years old.\n",
      "John has a Driver's license.\n",
      "John is fit enough.\n",
      "John meets all the requirements.\n",
      "\n",
      "John is qualified\n",
      "\n",
      "\n",
      "Candidate Assessed\n"
     ]
    }
   ],
   "source": [
    "interview_result(\"John\", 30, \"Yes\", \"Yes\", \"Yes\")"
   ]
  },
  {
   "cell_type": "code",
   "execution_count": 3,
   "id": "7b184b54",
   "metadata": {},
   "outputs": [
    {
     "name": "stdout",
     "output_type": "stream",
     "text": [
      "John is 30 years old.\n",
      "John does not have a license, but can be put on the waiting list even if he is not fit.\n",
      "\n",
      "\n",
      "Candidate Assessed\n"
     ]
    }
   ],
   "source": [
    "interview_result(\"John\", 30, \"No\", \"Yes\", \"No\")"
   ]
  },
  {
   "cell_type": "code",
   "execution_count": 4,
   "id": "0abd77f1",
   "metadata": {},
   "outputs": [
    {
     "name": "stdout",
     "output_type": "stream",
     "text": [
      "John is 30 years old.\n",
      "John has a Driver's license.\n",
      "\n",
      "John is qualified\n",
      "\n",
      "\n",
      "Candidate Assessed\n"
     ]
    }
   ],
   "source": [
    "interview_result(\"John\", 30, \"Yes\", \"No\", \"No\")"
   ]
  },
  {
   "cell_type": "code",
   "execution_count": 5,
   "id": "8cdc33eb",
   "metadata": {},
   "outputs": [
    {
     "name": "stdout",
     "output_type": "stream",
     "text": [
      "Help on function interview_result in module __main__:\n",
      "\n",
      "interview_result(Candidate, Age, License, Fitness, Does_the_candidate_have_a_License)\n",
      "    Info: This function prints the results for each candidate's interview session\n",
      "\n"
     ]
    }
   ],
   "source": [
    "help (interview_result)"
   ]
  },
  {
   "cell_type": "code",
   "execution_count": 6,
   "id": "3173146a",
   "metadata": {},
   "outputs": [
    {
     "name": "stdout",
     "output_type": "stream",
     "text": [
      "\n",
      "    Info: This function prints the results for each candidate's interview session\n",
      "    \n",
      "    \n"
     ]
    }
   ],
   "source": [
    "print (interview_result.__doc__)"
   ]
  },
  {
   "cell_type": "code",
   "execution_count": null,
   "id": "cdb93304",
   "metadata": {},
   "outputs": [],
   "source": [
    "interview_result () # press shift and tab to view "
   ]
  }
 ],
 "metadata": {
  "kernelspec": {
   "display_name": "Python 3",
   "language": "python",
   "name": "python3"
  },
  "language_info": {
   "codemirror_mode": {
    "name": "ipython",
    "version": 3
   },
   "file_extension": ".py",
   "mimetype": "text/x-python",
   "name": "python",
   "nbconvert_exporter": "python",
   "pygments_lexer": "ipython3",
   "version": "3.8.8"
  }
 },
 "nbformat": 4,
 "nbformat_minor": 5
}
